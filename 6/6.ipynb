{
  "nbformat": 4,
  "nbformat_minor": 0,
  "metadata": {
    "colab": {
      "name": "6.ipynb",
      "provenance": [],
      "toc_visible": true,
      "authorship_tag": "ABX9TyNuk6YtOOi49xbGsXeRM4WO",
      "include_colab_link": true
    },
    "kernelspec": {
      "name": "python3",
      "display_name": "Python 3"
    },
    "language_info": {
      "name": "python"
    },
    "widgets": {
      "application/vnd.jupyter.widget-state+json": {
        "50b8617dee564042a8ac4a099b8c4ba6": {
          "model_module": "@jupyter-widgets/controls",
          "model_name": "TextModel",
          "model_module_version": "1.5.0",
          "state": {
            "_view_name": "TextView",
            "style": "IPY_MODEL_893966ec5873413584d8bece0a7f6436",
            "_dom_classes": [],
            "description": "",
            "_model_name": "TextModel",
            "placeholder": "​",
            "_view_module": "@jupyter-widgets/controls",
            "_model_module_version": "1.5.0",
            "value": "With all this stuff going down at the moment with MJ i've started listening to his music, watching the odd documentary here and there, watched The Wiz and watched Moonwalker again. Maybe i just want to get a certain insight into this guy who i thought was really cool in the eighties just to maybe ma...",
            "_view_count": null,
            "disabled": false,
            "_view_module_version": "1.5.0",
            "continuous_update": true,
            "description_tooltip": null,
            "_model_module": "@jupyter-widgets/controls",
            "layout": "IPY_MODEL_1841364eebc649e490135ac9638bbf57"
          }
        },
        "893966ec5873413584d8bece0a7f6436": {
          "model_module": "@jupyter-widgets/controls",
          "model_name": "DescriptionStyleModel",
          "model_module_version": "1.5.0",
          "state": {
            "_view_name": "StyleView",
            "_model_name": "DescriptionStyleModel",
            "description_width": "",
            "_view_module": "@jupyter-widgets/base",
            "_model_module_version": "1.5.0",
            "_view_count": null,
            "_view_module_version": "1.2.0",
            "_model_module": "@jupyter-widgets/controls"
          }
        },
        "1841364eebc649e490135ac9638bbf57": {
          "model_module": "@jupyter-widgets/base",
          "model_name": "LayoutModel",
          "model_module_version": "1.2.0",
          "state": {
            "_view_name": "LayoutView",
            "grid_template_rows": null,
            "right": null,
            "justify_content": null,
            "_view_module": "@jupyter-widgets/base",
            "overflow": null,
            "_model_module_version": "1.2.0",
            "_view_count": null,
            "flex_flow": null,
            "width": null,
            "min_width": null,
            "border": null,
            "align_items": null,
            "bottom": null,
            "_model_module": "@jupyter-widgets/base",
            "top": null,
            "grid_column": null,
            "overflow_y": null,
            "overflow_x": null,
            "grid_auto_flow": null,
            "grid_area": null,
            "grid_template_columns": null,
            "flex": null,
            "_model_name": "LayoutModel",
            "justify_items": null,
            "grid_row": null,
            "max_height": null,
            "align_content": null,
            "visibility": null,
            "align_self": null,
            "height": null,
            "min_height": null,
            "padding": null,
            "grid_auto_rows": null,
            "grid_gap": null,
            "max_width": null,
            "order": null,
            "_view_module_version": "1.2.0",
            "grid_template_areas": null,
            "object_position": null,
            "object_fit": null,
            "grid_auto_columns": null,
            "margin": null,
            "display": null,
            "left": null
          }
        },
        "45f67463b01c47928622c8223f546545": {
          "model_module": "@jupyter-widgets/controls",
          "model_name": "ButtonModel",
          "model_module_version": "1.5.0",
          "state": {
            "_view_name": "ButtonView",
            "style": "IPY_MODEL_a0118f9bf93a453683718d7d5921e247",
            "_dom_classes": [],
            "description": "Отправить",
            "_model_name": "ButtonModel",
            "button_style": "",
            "_view_module": "@jupyter-widgets/controls",
            "_model_module_version": "1.5.0",
            "tooltip": "",
            "_view_count": null,
            "disabled": false,
            "_view_module_version": "1.5.0",
            "layout": "IPY_MODEL_9101ce3278be4f06b08341ae54befee9",
            "_model_module": "@jupyter-widgets/controls",
            "icon": ""
          }
        },
        "a0118f9bf93a453683718d7d5921e247": {
          "model_module": "@jupyter-widgets/controls",
          "model_name": "ButtonStyleModel",
          "model_module_version": "1.5.0",
          "state": {
            "_view_name": "StyleView",
            "_model_name": "ButtonStyleModel",
            "_view_module": "@jupyter-widgets/base",
            "_model_module_version": "1.5.0",
            "_view_count": null,
            "button_color": null,
            "font_weight": "",
            "_view_module_version": "1.2.0",
            "_model_module": "@jupyter-widgets/controls"
          }
        },
        "9101ce3278be4f06b08341ae54befee9": {
          "model_module": "@jupyter-widgets/base",
          "model_name": "LayoutModel",
          "model_module_version": "1.2.0",
          "state": {
            "_view_name": "LayoutView",
            "grid_template_rows": null,
            "right": null,
            "justify_content": null,
            "_view_module": "@jupyter-widgets/base",
            "overflow": null,
            "_model_module_version": "1.2.0",
            "_view_count": null,
            "flex_flow": null,
            "width": null,
            "min_width": null,
            "border": null,
            "align_items": null,
            "bottom": null,
            "_model_module": "@jupyter-widgets/base",
            "top": null,
            "grid_column": null,
            "overflow_y": null,
            "overflow_x": null,
            "grid_auto_flow": null,
            "grid_area": null,
            "grid_template_columns": null,
            "flex": null,
            "_model_name": "LayoutModel",
            "justify_items": null,
            "grid_row": null,
            "max_height": null,
            "align_content": null,
            "visibility": null,
            "align_self": null,
            "height": null,
            "min_height": null,
            "padding": null,
            "grid_auto_rows": null,
            "grid_gap": null,
            "max_width": null,
            "order": null,
            "_view_module_version": "1.2.0",
            "grid_template_areas": null,
            "object_position": null,
            "object_fit": null,
            "grid_auto_columns": null,
            "margin": null,
            "display": null,
            "left": null
          }
        },
        "a1e30b8465ea429bbb3ea5c7bb32402d": {
          "model_module": "@jupyter-widgets/output",
          "model_name": "OutputModel",
          "model_module_version": "1.0.0",
          "state": {
            "_view_name": "OutputView",
            "msg_id": "",
            "_dom_classes": [],
            "_model_name": "OutputModel",
            "outputs": [
              {
                "output_type": "stream",
                "name": "stdout",
                "text": [
                  "1\n"
                ]
              }
            ],
            "_view_module": "@jupyter-widgets/output",
            "_model_module_version": "1.0.0",
            "_view_count": null,
            "_view_module_version": "1.0.0",
            "layout": "IPY_MODEL_f70e3a16e8d34767b56d403976c8281a",
            "_model_module": "@jupyter-widgets/output"
          }
        },
        "f70e3a16e8d34767b56d403976c8281a": {
          "model_module": "@jupyter-widgets/base",
          "model_name": "LayoutModel",
          "model_module_version": "1.2.0",
          "state": {
            "_view_name": "LayoutView",
            "grid_template_rows": null,
            "right": null,
            "justify_content": null,
            "_view_module": "@jupyter-widgets/base",
            "overflow": null,
            "_model_module_version": "1.2.0",
            "_view_count": null,
            "flex_flow": null,
            "width": null,
            "min_width": null,
            "border": null,
            "align_items": null,
            "bottom": null,
            "_model_module": "@jupyter-widgets/base",
            "top": null,
            "grid_column": null,
            "overflow_y": null,
            "overflow_x": null,
            "grid_auto_flow": null,
            "grid_area": null,
            "grid_template_columns": null,
            "flex": null,
            "_model_name": "LayoutModel",
            "justify_items": null,
            "grid_row": null,
            "max_height": null,
            "align_content": null,
            "visibility": null,
            "align_self": null,
            "height": null,
            "min_height": null,
            "padding": null,
            "grid_auto_rows": null,
            "grid_gap": null,
            "max_width": null,
            "order": null,
            "_view_module_version": "1.2.0",
            "grid_template_areas": null,
            "object_position": null,
            "object_fit": null,
            "grid_auto_columns": null,
            "margin": null,
            "display": null,
            "left": null
          }
        }
      }
    }
  },
  "cells": [
    {
      "cell_type": "markdown",
      "metadata": {
        "id": "view-in-github",
        "colab_type": "text"
      },
      "source": [
        "<a href=\"https://colab.research.google.com/github/BashkirovaNatalya/tech/blob/master/6/6.ipynb\" target=\"_parent\"><img src=\"https://colab.research.google.com/assets/colab-badge.svg\" alt=\"Open In Colab\"/></a>"
      ]
    },
    {
      "cell_type": "code",
      "source": [
        "import ipywidgets as widgets\n",
        "import urllib.request as urllib2\n",
        "# If you are using Python 3+, import urllib instead of urllib2\n",
        "import json "
      ],
      "metadata": {
        "id": "kseLbcnpISPK"
      },
      "execution_count": null,
      "outputs": []
    },
    {
      "cell_type": "code",
      "source": [
        "input = widgets.Text()\n",
        "button = widgets.Button(description = \"Отправить\")\n",
        "output = widgets.Output()\n",
        "display(input, button, output)"
      ],
      "metadata": {
        "colab": {
          "base_uri": "https://localhost:8080/",
          "height": 98,
          "referenced_widgets": [
            "50b8617dee564042a8ac4a099b8c4ba6",
            "893966ec5873413584d8bece0a7f6436",
            "1841364eebc649e490135ac9638bbf57",
            "45f67463b01c47928622c8223f546545",
            "a0118f9bf93a453683718d7d5921e247",
            "9101ce3278be4f06b08341ae54befee9",
            "a1e30b8465ea429bbb3ea5c7bb32402d",
            "f70e3a16e8d34767b56d403976c8281a"
          ]
        },
        "id": "mRqPYbaLKK3K",
        "outputId": "9d684b18-f17a-4faa-9080-c23cf33bdfd0"
      },
      "execution_count": null,
      "outputs": [
        {
          "output_type": "display_data",
          "data": {
            "application/vnd.jupyter.widget-view+json": {
              "model_id": "50b8617dee564042a8ac4a099b8c4ba6",
              "version_minor": 0,
              "version_major": 2
            },
            "text/plain": [
              "Text(value='')"
            ]
          },
          "metadata": {}
        },
        {
          "output_type": "display_data",
          "data": {
            "application/vnd.jupyter.widget-view+json": {
              "model_id": "45f67463b01c47928622c8223f546545",
              "version_minor": 0,
              "version_major": 2
            },
            "text/plain": [
              "Button(description='Отправить', style=ButtonStyle())"
            ]
          },
          "metadata": {}
        },
        {
          "output_type": "display_data",
          "data": {
            "application/vnd.jupyter.widget-view+json": {
              "model_id": "a1e30b8465ea429bbb3ea5c7bb32402d",
              "version_minor": 0,
              "version_major": 2
            },
            "text/plain": [
              "Output()"
            ]
          },
          "metadata": {}
        }
      ]
    },
    {
      "cell_type": "code",
      "source": [
        "def send_request(input):\n",
        "  data =  {\n",
        "\n",
        "          \"Inputs\": {\n",
        "\n",
        "                  \"input1\":\n",
        "                  {\n",
        "                      \"ColumnNames\": [\"id\", \"sentiment\", \"review\"],\n",
        "                      \"Values\": [ [ \"\", \"\", input ], \n",
        "  ]\n",
        "                  \n",
        "                  },        },\n",
        "              \"GlobalParameters\": {\n",
        "  }\n",
        "      }\n",
        "\n",
        "  body = str.encode(json.dumps(data))\n",
        "\n",
        "  url = 'https://ussouthcentral.services.azureml.net/workspaces/058ff49c150a439a9ebdfc7d19cda0cf/services/078509da270e4b9b8c4cc77b743b8f23/execute?api-version=2.0&details=true'\n",
        "  api_key = 'OXd9TSRXvKb2YVvbIXPZSjLq9/u+yY1UuiXsMez/2Q8l7yZVARyYwKnLifAJavirWqTpsYCzm7aZraxBiF5pOw==' # Replace this with the API key for the web service\n",
        "  headers = {'Content-Type':'application/json', 'Authorization':('Bearer '+ api_key)}\n",
        "\n",
        "  req = urllib2.Request(url, body, headers) \n",
        "\n",
        "  try:\n",
        "      response = urllib2.urlopen(req)\n",
        "\n",
        "      # If you are using Python 3+, replace urllib2 with urllib.request in the above code:\n",
        "      # req = urllib.request.Request(url, body, headers) \n",
        "      # response = urllib.request.urlopen(req)\n",
        "\n",
        "      result = response.read().decode('UTF-8')\n",
        "      json_obj = json.load(urllib2.urlopen(req))\n",
        "      return (json_obj['Results'])\n",
        "      \n",
        "  except urllib2.HTTPError as error:\n",
        "      print(\"The request failed with status code: \" + str(error.code))\n",
        "\n",
        "      # Print the headers - they include the requert ID and the timestamp, which are useful for debugging the failure\n",
        "      print(error.info())\n",
        "\n",
        "      print(json.loads(error.read()))                 "
      ],
      "metadata": {
        "id": "-1kU7K86GQCs"
      },
      "execution_count": null,
      "outputs": []
    },
    {
      "cell_type": "code",
      "source": [
        "def on_button_clicked(b):\n",
        "  with output:\n",
        "    output.clear_output()\n",
        "    result = send_request(input.value)\n",
        "    sentiment = result['output1']['value']['Values'][0][0]\n",
        "    print (sentiment)"
      ],
      "metadata": {
        "id": "xHpOcjOINfQ7"
      },
      "execution_count": null,
      "outputs": []
    },
    {
      "cell_type": "code",
      "source": [
        "button.on_click(on_button_clicked)\n"
      ],
      "metadata": {
        "id": "MtjsteU1Krah"
      },
      "execution_count": null,
      "outputs": []
    }
  ]
}